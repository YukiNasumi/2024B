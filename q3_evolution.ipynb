{
 "cells": [
  {
   "cell_type": "code",
   "execution_count": 1,
   "metadata": {},
   "outputs": [],
   "source": [
    "import numpy as np\n",
    "import random\n",
    "import q3lib"
   ]
  },
  {
   "cell_type": "code",
   "execution_count": 2,
   "metadata": {},
   "outputs": [],
   "source": [
    "pop = q3lib.generate_pop()"
   ]
  },
  {
   "cell_type": "code",
   "execution_count": 3,
   "metadata": {},
   "outputs": [
    {
     "name": "stdout",
     "output_type": "stream",
     "text": [
      "第1代，最好的基因型[1 1 1 1 0 0 0 1 1 0 1 0 0 0 1 1]，收益为172208\n",
      "第2代，最好的基因型[1 1 1 1 0 0 0 1 1 0 1 0 0 0 1 1]，收益为259920\n",
      "第3代，最好的基因型[1 0 1 1 0 0 1 0 0 1 1 1 0 1 1 1]，收益为267150\n",
      "第4代，最好的基因型[0 1 1 1 1 0 1 1 0 1 1 0 0 0 1 1]，收益为274736\n",
      "第5代，最好的基因型[0 1 1 1 1 0 1 1 0 1 1 0 0 0 1 1]，收益为276530\n",
      "第6代，最好的基因型[0 1 1 1 0 1 1 0 0 1 1 0 0 0 1 1]，收益为273804\n",
      "第7代，最好的基因型[0 1 1 1 1 1 1 0 0 1 1 0 0 0 1 1]，收益为292070\n",
      "第8代，最好的基因型[0 1 1 1 1 0 1 0 0 1 1 0 0 0 1 1]，收益为302830\n",
      "第9代，最好的基因型[0 1 1 1 1 0 1 1 0 1 1 0 0 0 1 1]，收益为291176\n",
      "第10代，最好的基因型[0 1 1 1 1 0 1 1 0 1 1 0 0 0 1 1]，收益为286354\n",
      "第11代，最好的基因型[0 1 1 1 1 0 1 1 0 1 1 0 0 0 1 1]，收益为296192\n",
      "第12代，最好的基因型[0 1 1 1 1 0 1 1 0 1 1 0 0 0 1 1]，收益为281822\n",
      "第13代，最好的基因型[1 1 1 1 1 0 1 1 0 1 1 0 0 0 1 1]，收益为284072\n",
      "第14代，最好的基因型[1 1 1 1 1 0 1 0 0 1 1 0 0 0 1 1]，收益为295642\n",
      "第15代，最好的基因型[0 1 1 1 1 0 1 1 0 1 1 0 0 0 1 1]，收益为298750\n",
      "第16代，最好的基因型[1 1 1 1 1 0 1 0 0 1 1 0 0 0 1 1]，收益为298648\n",
      "第17代，最好的基因型[0 1 1 1 1 0 1 0 0 1 1 0 0 0 1 1]，收益为293684\n",
      "第18代，最好的基因型[1 1 1 1 1 0 1 1 0 1 1 0 0 0 1 1]，收益为296136\n",
      "第19代，最好的基因型[0 1 1 1 1 0 1 0 0 1 1 0 0 0 1 1]，收益为281690\n",
      "第20代，最好的基因型[0 1 1 1 1 0 1 0 0 1 1 0 0 0 1 1]，收益为290320\n"
     ]
    }
   ],
   "source": [
    "result = q3lib.evolution(pop,num_part=10000,N_GENERATION=20)"
   ]
  },
  {
   "cell_type": "code",
   "execution_count": null,
   "metadata": {},
   "outputs": [],
   "source": []
  }
 ],
 "metadata": {
  "kernelspec": {
   "display_name": "torch",
   "language": "python",
   "name": "python3"
  },
  "language_info": {
   "codemirror_mode": {
    "name": "ipython",
    "version": 3
   },
   "file_extension": ".py",
   "mimetype": "text/x-python",
   "name": "python",
   "nbconvert_exporter": "python",
   "pygments_lexer": "ipython3",
   "version": "3.8.13"
  }
 },
 "nbformat": 4,
 "nbformat_minor": 2
}
