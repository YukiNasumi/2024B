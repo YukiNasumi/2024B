{
 "cells": [
  {
   "cell_type": "code",
   "execution_count": 39,
   "metadata": {},
   "outputs": [],
   "source": [
    "import random\n",
    "import numpy as np\n",
    "import copy\n",
    "cases = [\n",
    "    {\"p1_rate\": 0.1, \"p1_cost\": 4, \"p1_test\": 2,\n",
    "     \"p2_rate\": 0.1, \"p2_cost\": 18, \"p2_test\": 3, \n",
    "     \"product_rate\":0.1,\"assemble\": 6, \"product_test\": 3,\"market\": 56, \n",
    "     \"adjustment_loss\": 6, \"disassemble_cost\": 5},\n",
    "    ]\n"
   ]
  },
  {
   "cell_type": "code",
   "execution_count": 40,
   "metadata": {},
   "outputs": [],
   "source": [
    "class part():\n",
    "    def __init__(self,fail_rate):\n",
    "        if np.random.rand()<fail_rate:\n",
    "            self.ok = False\n",
    "        else:\n",
    "            self.ok=True\n",
    "        self.exist = True\n",
    "        self.disassemble = 0\n",
    "    def test(self):\n",
    "        return self.ok\n",
    "    def dump(self):\n",
    "        self.exist=False\n",
    "        \n",
    "class product():\n",
    "    def __init__(self,part1,part2,fail_rate):\n",
    "        self.part1 = copy.deepcopy(part1)\n",
    "        self.part2 = copy.deepcopy(part2)\n",
    "        if part1 and part2:\n",
    "            self.ok = False if np.random.rand()<=fail_rate else True\n",
    "        else:\n",
    "            self.ok=False\n",
    "    def test(self):\n",
    "        return self.part1.ok and self.part2.ok and self.ok"
   ]
  },
  {
   "cell_type": "code",
   "execution_count": 41,
   "metadata": {},
   "outputs": [
    {
     "data": {
      "image/png": "[encoded data removed]",
      "text/plain": [
       "<Figure size 640x480 with 1 Axes>"
      ]
     },
     "metadata": {},
     "output_type": "display_data"
    }
   ],
   "source": [
    "from matplotlib import pyplot as plt\n",
    "import numpy as np\n",
    "x = np.linspace(-10,10,int(1e4))\n",
    "sigma = lambda x:1/(1+np.exp(-5*(x-0.5)))\n",
    "plt.plot(x,sigma(x))\n",
    "plt.xlim((0,1))\n",
    "plt.grid()"
   ]
  },
  {
   "cell_type": "code",
   "execution_count": 42,
   "metadata": {},
   "outputs": [
    {
     "data": {
      "text/plain": [
       "0.7772998611746911"
      ]
     },
     "execution_count": 42,
     "metadata": {},
     "output_type": "execute_result"
    }
   ],
   "source": [
    "sigma(0.75)"
   ]
  },
  {
   "cell_type": "code",
   "execution_count": 43,
   "metadata": {},
   "outputs": [
    {
     "data": {
      "text/plain": [
       "0.07585818002124355"
      ]
     },
     "execution_count": 43,
     "metadata": {},
     "output_type": "execute_result"
    }
   ],
   "source": [
    "sigma(0)"
   ]
  },
  {
   "cell_type": "code",
   "execution_count": 44,
   "metadata": {},
   "outputs": [],
   "source": [
    "def decision(num_part,case,*,test1,test2,test_product,disassemble):\n",
    "    all_market = 0\n",
    "    failure_in_market=0\n",
    "    cost=0\n",
    "    income=0\n",
    "    part1s=[]\n",
    "    part2s=[]\n",
    "    dead_stock = []#没有卖出去的product\n",
    "    stf_rate=1 #满意率\n",
    "    #购买配件12\n",
    "    for _ in range(num_part):\n",
    "        p1 = part(case['p1_rate'])\n",
    "        p2 = part(case['p2_rate'])\n",
    "        cost = cost + case['p1_cost']\n",
    "        cost = cost + case['p2_cost']\n",
    "        \n",
    "        if test1 or p1.disassemble>=1:\n",
    "            cost = cost + case['p1_test']\n",
    "            if p1.test():\n",
    "                part1s.append(copy.deepcopy(p1))\n",
    "            else:\n",
    "                p1.dump()\n",
    "        else:\n",
    "            part1s.append(copy.deepcopy(p1))\n",
    "        if test2 or p2.disassemble>=1:\n",
    "            cost = cost+case['p2_test']\n",
    "            if p2.test():\n",
    "                part2s.append(copy.deepcopy(p2))\n",
    "            else:\n",
    "                p2.dump()\n",
    "        else:\n",
    "            part2s.append(copy.deepcopy(p2))\n",
    "            \n",
    "    #现在开始装配,在part1s和part2s中随机选取一个零件\n",
    "    len1,len2 = len(part1s),len(part2s)\n",
    "    while len1 and len2:\n",
    "        idx1 = random.randint(0,len1-1)\n",
    "        idx2 = random.randint(0,len2-1)\n",
    "        cost = cost + case['assemble']\n",
    "        assembled_product = product(copy.deepcopy(part1s[idx1]),copy.deepcopy(part2s[idx2]),fail_rate=case['product_rate'])\n",
    "        len1 = len1-1\n",
    "        len2 = len2-1\n",
    "        del part1s[idx1]\n",
    "        del part2s[idx2]\n",
    "    \n",
    "    \n",
    "        if test_product:\n",
    "            cost += case['product_test']\n",
    "            if assembled_product.test():\n",
    "                \n",
    "                if np.random.rand()<=sigma(stf_rate):\n",
    "                    all_market+=1\n",
    "                    income = income + case['market']\n",
    "                else:\n",
    "                    dead_stock.append(copy.deepcopy(assembled_product))\n",
    "                stf_rate = 1-failure_in_market/all_market if not all_market==0 else 1#更新满意率\n",
    "                \n",
    "            elif disassemble:\n",
    "                cost = cost+case['disassemble_cost']\n",
    "                assembled_product.part1.disassemble+=1\n",
    "                assembled_product.part2.disassemble+=1\n",
    "                if assembled_product.part1.disassemble>=1 and assembled_product.part1.test():\n",
    "                    cost += case['p1_test']\n",
    "                    part1s.append(copy.deepcopy(assembled_product.part1))\n",
    "                    len1=len1+1\n",
    "                if assembled_product.part2.disassemble>=1 and assembled_product.part2.test():\n",
    "                    cost += case['p2_test']\n",
    "                    part2s.append(copy.deepcopy(assembled_product.part2))\n",
    "                    len2 = len2+1\n",
    "                del assembled_product\n",
    "\n",
    "        else:\n",
    "            if np.random.rand()<=sigma(stf_rate):\n",
    "                all_market+=1\n",
    "                income = income + case['market']\n",
    "                if not assembled_product.test():#如果不合格，则需要退货\n",
    "                    failure_in_market = failure_in_market + 1\n",
    "                    #print(failure_in_market)\n",
    "                    income = income - case['market']\n",
    "                    cost = cost + case['adjustment_loss']\n",
    "                    if disassemble:       \n",
    "                        cost = cost+case['disassemble_cost']\n",
    "                        assembled_product.part1.disassemble+=1\n",
    "                        assembled_product.part2.disassemble+=1\n",
    "                        if assembled_product.part1.disassemble>=1 and assembled_product.part1.test():\n",
    "                            cost += case['p1_test']\n",
    "                            part1s.append(copy.deepcopy(assembled_product.part1))\n",
    "                            len1=len1+1\n",
    "                        if assembled_product.part2.disassemble>=1 and assembled_product.part2.test():\n",
    "                            cost += case['p2_test']\n",
    "                            part2s.append(copy.deepcopy(assembled_product.part2))\n",
    "                            len2 = len2+1\n",
    "                        del assembled_product\n",
    "            else:\n",
    "                dead_stock.append(copy.deepcopy(assembled_product))\n",
    "            stf_rate = 1-failure_in_market/all_market if not all_market==0 else 1#更新满意率\n",
    "                \n",
    "    return income - cost,failure_in_market,stf_rate"
   ]
  },
  {
   "cell_type": "code",
   "execution_count": 45,
   "metadata": {},
   "outputs": [
    {
     "name": "stdout",
     "output_type": "stream",
     "text": [
      "plan:1 {'test1': 0, 'test2': 0, 'test_product': 0, 'disassemble': 0}\n",
      "profit:189928 failed product in market:20500 satisfacation rate:0.7305751235411628\n",
      "plan:2 {'test1': 0, 'test2': 0, 'test_product': 0, 'disassemble': 1}\n",
      "profit:460818 failed product in market:21810 satisfacation rate:0.7496096620132255\n",
      "plan:3 {'test1': 0, 'test2': 0, 'test_product': 1, 'disassemble': 0}\n",
      "profit:671880 failed product in market:0 satisfacation rate:1.0\n",
      "plan:4 {'test1': 0, 'test2': 0, 'test_product': 1, 'disassemble': 1}\n",
      "profit:1147639 failed product in market:0 satisfacation rate:1.0\n",
      "plan:5 {'test1': 0, 'test2': 1, 'test_product': 0, 'disassemble': 0}\n",
      "profit:258708 failed product in market:14038 satisfacation rate:0.8114616490054662\n",
      "plan:6 {'test1': 0, 'test2': 1, 'test_product': 0, 'disassemble': 1}\n",
      "profit:623614 failed product in market:16225 satisfacation rate:0.8150343711168618\n",
      "plan:7 {'test1': 0, 'test2': 1, 'test_product': 1, 'disassemble': 0}\n",
      "profit:460891 failed product in market:0 satisfacation rate:1.0\n",
      "plan:8 {'test1': 0, 'test2': 1, 'test_product': 1, 'disassemble': 1}\n",
      "profit:983614 failed product in market:0 satisfacation rate:1.0\n",
      "plan:9 {'test1': 1, 'test2': 0, 'test_product': 0, 'disassemble': 0}\n",
      "profit:323754 failed product in market:14211 satisfacation rate:0.807977623738295\n",
      "plan:10 {'test1': 1, 'test2': 0, 'test_product': 0, 'disassemble': 1}\n",
      "profit:751527 failed product in market:15888 satisfacation rate:0.8186549787700315\n",
      "plan:11 {'test1': 1, 'test2': 0, 'test_product': 1, 'disassemble': 0}\n",
      "profit:568312 failed product in market:0 satisfacation rate:1.0\n",
      "plan:12 {'test1': 1, 'test2': 0, 'test_product': 1, 'disassemble': 1}\n",
      "profit:1100786 failed product in market:0 satisfacation rate:1.0\n",
      "plan:13 {'test1': 1, 'test2': 1, 'test_product': 0, 'disassemble': 0}\n",
      "profit:708092 failed product in market:7826 satisfacation rate:0.9011531709042224\n",
      "plan:14 {'test1': 1, 'test2': 1, 'test_product': 0, 'disassemble': 1}\n",
      "profit:944068 failed product in market:8659 satisfacation rate:0.9002120450826284\n",
      "plan:15 {'test1': 1, 'test2': 1, 'test_product': 1, 'disassemble': 0}\n",
      "profit:680652 failed product in market:0 satisfacation rate:1.0\n",
      "plan:16 {'test1': 1, 'test2': 1, 'test_product': 1, 'disassemble': 1}\n",
      "profit:961070 failed product in market:0 satisfacation rate:1.0\n"
     ]
    }
   ],
   "source": [
    "to_bi = lambda i:format(i,'04b')\n",
    "plans=[{'test1':int(to_bi(i)[0]),'test2':int(to_bi(i)[1]),'test_product':int(to_bi(i)[2]),'disassemble':int(to_bi(i)[3])} for i in range(16) ]\n",
    "for case in cases:\n",
    "    \"\"\"p1_rate = case['p1_rate']\n",
    "    p1_cost = case['p1_cost']\n",
    "    p1_test = case['p1_test']\n",
    "    p2_rate,p2_cost,p2_test = case[\"p2_rate\"], case[\"p2_cost\"], case[\"p2_test\"]\n",
    "    product_rate, assemble, product_test, market =case[\"product_rate\"],case[\"assemble\"], case[\"product_test\"],case[\"market\"]\n",
    "    adjustment_loss, disassemble_cost = case[\"adjustment_loss\"], case[\"disassemble_cost\"]\"\"\"\n",
    "    for i, plan in enumerate(plans,1):\n",
    "        print('plan:{}'.format(i),plan)\n",
    "        profit,failure,stf_rate = decision(num_part=100000,case=case,**plan)\n",
    "        print('profit:'+str(profit),'failed product in market:{} satisfacation rate:{}'.format(failure,stf_rate))"
   ]
  },
  {
   "cell_type": "code",
   "execution_count": 46,
   "metadata": {},
   "outputs": [],
   "source": [
    "case_q3 = {\n",
    "    'p1':{ 'fail':0.1,'cost':2,'test':1},\n",
    "    'p2':{ 'fail':0.1,'cost':2,'test':1},\n",
    "    'p3':{ 'fail':0.1,'cost':2,'test':1},\n",
    "    'p4':{ 'fail':0.1,'cost':2,'test':1},\n",
    "    'p5':{ 'fail':0.1,'cost':2,'test':1},\n",
    "    'p6':{ 'fail':0.1,'cost':2,'test':1},\n",
    "    'p7':{ 'fail':0.1,'cost':2,'test':1},\n",
    "    'p8':{ 'fail':0.1,'cost':2,'test':1},\n",
    "    'h1':{'fail':0.1,'cost':8,'test':4,'disassemble':6},\n",
    "    'h2':{'fail':0.1,'cost':8,'test':4,'disassemble':6},\n",
    "    'h3':{'fail':0.1,'cost':8,'test':4,'disassemble':6},\n",
    "    'f':{'fail':0.1,'cost':8,'test':6,'disassemble':10,'market':200,'adjustment':40}#成品\n",
    "}"
   ]
  },
  {
   "cell_type": "code",
   "execution_count": null,
   "metadata": {},
   "outputs": [],
   "source": []
  }
 ],
 "metadata": {
  "kernelspec": {
   "display_name": "torch",
   "language": "python",
   "name": "python3"
  },
  "language_info": {
   "codemirror_mode": {
    "name": "ipython",
    "version": 3
   },
   "file_extension": ".py",
   "mimetype": "text/x-python",
   "name": "python",
   "nbconvert_exporter": "python",
   "pygments_lexer": "ipython3",
   "version": "3.8.13"
  }
 },
 "nbformat": 4,
 "nbformat_minor": 2
}
